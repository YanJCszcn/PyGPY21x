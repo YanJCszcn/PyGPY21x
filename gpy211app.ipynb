{
 "cells": [
  {
   "cell_type": "markdown",
   "metadata": {},
   "source": [
    "### GPY211 application\n"
   ]
  },
  {
   "cell_type": "code",
   "execution_count": 2,
   "metadata": {},
   "outputs": [
    {
     "output_type": "error",
     "ename": "ModuleNotFoundError",
     "evalue": "No module named 'gpy2xx'",
     "traceback": [
      "\u001b[1;31m---------------------------------------------------------------------------\u001b[0m",
      "\u001b[1;31mModuleNotFoundError\u001b[0m                       Traceback (most recent call last)",
      "\u001b[1;32m<ipython-input-2-0ad3cd83e1d5>\u001b[0m in \u001b[0;36m<module>\u001b[1;34m\u001b[0m\n\u001b[1;32m----> 1\u001b[1;33m \u001b[1;32mfrom\u001b[0m \u001b[0mgpy2xx\u001b[0m \u001b[1;32mimport\u001b[0m \u001b[0mgpy2xx\u001b[0m\u001b[1;33m\u001b[0m\u001b[1;33m\u001b[0m\u001b[0m\n\u001b[0m\u001b[0;32m      2\u001b[0m \u001b[0mg2\u001b[0m \u001b[1;33m=\u001b[0m \u001b[0mgpy2xx\u001b[0m\u001b[1;33m(\u001b[0m\u001b[1;33m)\u001b[0m\u001b[1;33m\u001b[0m\u001b[1;33m\u001b[0m\u001b[0m\n",
      "\u001b[1;31mModuleNotFoundError\u001b[0m: No module named 'gpy2xx'"
     ]
    }
   ],
   "source": [
    "from gpy21x import gpy21x\n",
    "g2 = gpy21x()"
   ]
  },
  {
   "cell_type": "code",
   "execution_count": 2,
   "metadata": {},
   "outputs": [
    {
     "name": "stdout",
     "output_type": "stream",
     "text": [
      "read value: 0x67c9\n"
     ]
    },
    {
     "data": {
      "text/plain": [
       "26569"
      ]
     },
     "execution_count": 2,
     "metadata": {},
     "output_type": "execute_result"
    }
   ],
   "source": [
    "g2.mdior(2)"
   ]
  },
  {
   "cell_type": "code",
   "execution_count": 3,
   "metadata": {},
   "outputs": [],
   "source": [
    "g2.mmdw(1,0x84, 0x4000)"
   ]
  },
  {
   "cell_type": "code",
   "execution_count": 4,
   "metadata": {},
   "outputs": [
    {
     "name": "stdout",
     "output_type": "stream",
     "text": [
      "read value: 0x4000\n"
     ]
    },
    {
     "data": {
      "text/plain": [
       "16384"
      ]
     },
     "execution_count": 4,
     "metadata": {},
     "output_type": "execute_result"
    }
   ],
   "source": [
    "g2.mmdr(1, 0x84)"
   ]
  },
  {
   "cell_type": "code",
   "execution_count": 5,
   "metadata": {},
   "outputs": [
    {
     "name": "stdout",
     "output_type": "stream",
     "text": [
      "read value: 0x67c9\n",
      "read value: 0xde00\n",
      "read value: 0x7949\n",
      "MDIO reg 24: 0x0003\n",
      "read value: 0x8747\n",
      "read value: 0x34c2\n",
      "MMD reg 30.9: 0x800c\n",
      "\n",
      "FW version: 0x8747\n",
      "PHY_LS:  Down  -- Speed:  Autonegotiation mode\n",
      "SGMII LS:  Up  -- Speed:  10Mbps\n"
     ]
    }
   ],
   "source": [
    "g2.mdior(2)\n",
    "g2.mdior(3)\n",
    "phy_LS = (g2.mdior(1) & 0x4) >> 2\n",
    "TPI = g2.mdior(24, 0)\n",
    "print(\"MDIO reg 24: 0x%04x\"%TPI)\n",
    "fw = g2.mdior(30)\n",
    "g2.mmdr(30, 8)\n",
    "sgmii_stat = g2.mmdr(30, 9, 0)\n",
    "print(\"MMD reg 30.9: 0x%04x\"%sgmii_stat)\n",
    "sgmii_LS = (sgmii_stat & 4) >> 2\n",
    "sgmii_Speed = sgmii_stat & 3\n",
    "print(\"\")\n",
    "print(\"FW version: %#x\"%fw)\n",
    "LS_list = [\"Down\", \"Up\"]\n",
    "LS_speed_list = [\"10Mbps\", \"100Mbps\", \"1000Mbps\", \"Autonegotiation mode\", \"2.5Gbps\"]\n",
    "print (\"PHY_LS: \", LS_list[phy_LS], \" -- Speed: \", LS_speed_list[TPI&0x7])\n",
    "sgmii_speed_list = [\"10Mbps\", \"100Mbps\", \"1Gbps\", \"2.5Gbps\"]\n",
    "print(\"SGMII LS: \", LS_list[sgmii_LS], \" -- Speed: \", sgmii_speed_list[sgmii_Speed])\n"
   ]
  },
  {
   "cell_type": "code",
   "execution_count": 6,
   "metadata": {},
   "outputs": [],
   "source": [
    "def stat():\n",
    "    phy_LS = (g2.mdior(1, 0) & 0x4) >> 2\n",
    "    TPI = g2.mdior(24, 0)\n",
    "    sgmii_stat = g2.mmdr(30, 9, 0)\n",
    "    sgmii_LS = (sgmii_stat & 4) >> 2\n",
    "    sgmii_Speed = sgmii_stat & 3\n",
    "    fw = g2.mdior(30, 0)\n",
    "    print(\"\")\n",
    "    print(\"FW version: 0x%04x\"%fw)\n",
    "    LS_list = [\"Down\", \"Up\"]\n",
    "    LS_speed_list = [\"10Mbps\", \"100Mbps\", \"1000Mbps\", \"Autonegotiation mode\", \"2.5Gbps\"]\n",
    "    print (\"PHY_LS: \", LS_list[phy_LS], \" -- Speed: \", LS_speed_list[TPI&0x7])\n",
    "    sgmii_speed_list = [\"10Mbps\", \"100Mbps\", \"1Gbps\", \"2.5Gbps\"]\n",
    "    print(\"SGMII LS: \", LS_list[sgmii_LS], \" -- Speed: \", sgmii_speed_list[sgmii_Speed])\n",
    "    return"
   ]
  },
  {
   "cell_type": "markdown",
   "metadata": {},
   "source": [
    "### Test SGMII power down"
   ]
  },
  {
   "cell_type": "code",
   "execution_count": 8,
   "metadata": {},
   "outputs": [
    {
     "name": "stdout",
     "output_type": "stream",
     "text": [
      "\n",
      "FW version: 0x8747\n",
      "PHY_LS:  Up  -- Speed:  1000Mbps\n",
      "SGMII LS:  Up  -- Speed:  1Gbps\n"
     ]
    }
   ],
   "source": [
    "stat()"
   ]
  },
  {
   "cell_type": "markdown",
   "metadata": {},
   "source": [
    "##### SGMII Transmitter amplitude zero:\n",
    "w d007 0840\n",
    "\n",
    "w d006 0000\n",
    "\n",
    "w d007 0800"
   ]
  },
  {
   "cell_type": "code",
   "execution_count": 4,
   "metadata": {},
   "outputs": [
    {
     "name": "stdout",
     "output_type": "stream",
     "text": [
      "read value: 0x006f\n",
      "read value: 0x0000\n"
     ]
    },
    {
     "data": {
      "text/plain": [
       "0"
      ]
     },
     "execution_count": 4,
     "metadata": {},
     "output_type": "execute_result"
    }
   ],
   "source": [
    "g2.r(0xd006)\n",
    "g2.w(0xd007, 0x0840)\n",
    "g2.w(0xd006, 0)\n",
    "g2.w(0xd007, 0x0800)\n",
    "g2.r(0xd006)"
   ]
  },
  {
   "cell_type": "code",
   "execution_count": 2,
   "metadata": {},
   "outputs": [
    {
     "name": "stdout",
     "output_type": "stream",
     "text": [
      "read value: 0x006f\n",
      "read value: 0x0000\n"
     ]
    },
    {
     "data": {
      "text/plain": [
       "0"
      ]
     },
     "execution_count": 2,
     "metadata": {},
     "output_type": "execute_result"
    }
   ],
   "source": [
    "# g2.r(0xd006): 0xd006 ==> 0000 0000 1101 00(11 0100 0000 0001 10)00 ==> 0x00d34018\n",
    "g2.mmdw(30, 6, 0x4018)\n",
    "g2.mmdw(30, 7, 0x00d3)\n",
    "g2.mmdr(30, 5)\n",
    "# g2.w(0xd007, 0x0840):  0xd007 ==> 0000 0001 1101 00(11 0100 0000 0001 11)00 ==> 0x01d3401c\n",
    "g2.mmdw(30, 5, 0x0840)\n",
    "g2.mmdw(30, 6, 0x401c)\n",
    "g2.mmdw(30, 7, 0x01d3)\n",
    "# g2.w(0xd006, 0): 0xd006 ==> 0000 0001 1101 00(11 0100 0000 0001 10)00 ==> 0x01d34018\n",
    "g2.mmdw(30, 5, 0x0000)\n",
    "g2.mmdw(30, 6, 0x4018)\n",
    "g2.mmdw(30, 7, 0x01d3)\n",
    "# g2.w(0xd007, 0x0800):  0xd007 ==> 0000 0001 1101 00(11 0100 0000 0001 11)00 ==> 0x01d3401c\n",
    "g2.mmdw(30, 5, 0x0800)\n",
    "g2.mmdw(30, 6, 0x401c)\n",
    "g2.mmdw(30, 7, 0x01d3)\n",
    "# g2.r(0xd006): 0xd006 ==> 0000 0000 1101 00(11 0100 0000 0001 10)00 ==> 0x00d34018\n",
    "g2.mmdw(30, 6, 0x4018)\n",
    "g2.mmdw(30, 7, 0x00d3)\n",
    "g2.mmdr(30, 5)"
   ]
  },
  {
   "cell_type": "markdown",
   "metadata": {},
   "source": [
    "##### SGMII Transmitter amplitude default:\n",
    "w d007 0840\n",
    "\n",
    "w d006 006f\n",
    "\n",
    "w d007 0800"
   ]
  },
  {
   "cell_type": "code",
   "execution_count": 5,
   "metadata": {},
   "outputs": [
    {
     "name": "stdout",
     "output_type": "stream",
     "text": [
      "read value: 0x0000\n",
      "read value: 0x006f\n"
     ]
    },
    {
     "data": {
      "text/plain": [
       "111"
      ]
     },
     "execution_count": 5,
     "metadata": {},
     "output_type": "execute_result"
    }
   ],
   "source": [
    "g2.r(0xd006)\n",
    "g2.w(0xd007, 0x0840)\n",
    "g2.w(0xd006, 0x006f)\n",
    "g2.w(0xd007, 0x0800)\n",
    "g2.r(0xd006)"
   ]
  },
  {
   "cell_type": "code",
   "execution_count": 3,
   "metadata": {},
   "outputs": [
    {
     "name": "stdout",
     "output_type": "stream",
     "text": [
      "read value: 0x0000\n",
      "read value: 0x006f\n"
     ]
    },
    {
     "data": {
      "text/plain": [
       "111"
      ]
     },
     "execution_count": 3,
     "metadata": {},
     "output_type": "execute_result"
    }
   ],
   "source": [
    "# g2.r(0xd006): 0xd006 ==> 0000 0000 1101 00(11 0100 0000 0001 10)00 ==> 0x00d34018\n",
    "g2.mmdw(30, 6, 0x4018)\n",
    "g2.mmdw(30, 7, 0x00d3)\n",
    "g2.mmdr(30, 5)\n",
    "# g2.w(0xd007, 0x0840):  0xd007 ==> 0000 0001 1101 00(11 0100 0000 0001 11)00 ==> 0x01d3401c\n",
    "g2.mmdw(30, 5, 0x0840)\n",
    "g2.mmdw(30, 6, 0x401c)\n",
    "g2.mmdw(30, 7, 0x01d3)\n",
    "# g2.w(0xd006, 0): 0xd006 ==> 0000 0001 1101 00(11 0100 0000 0001 10)00 ==> 0x01d34018\n",
    "g2.mmdw(30, 5, 0x006f)\n",
    "g2.mmdw(30, 6, 0x4018)\n",
    "g2.mmdw(30, 7, 0x01d3)\n",
    "# g2.w(0xd007, 0x0800):  0xd007 ==> 0000 0001 1101 00(11 0100 0000 0001 11)00 ==> 0x01d3401c\n",
    "g2.mmdw(30, 5, 0x0800)\n",
    "g2.mmdw(30, 6, 0x401c)\n",
    "g2.mmdw(30, 7, 0x01d3)\n",
    "# g2.r(0xd006): 0xd006 ==> 0000 0000 1101 00(11 0100 0000 0001 10)00 ==> 0x00d34018\n",
    "g2.mmdw(30, 6, 0x4018)\n",
    "g2.mmdw(30, 7, 0x00d3)\n",
    "g2.mmdr(30, 5)"
   ]
  },
  {
   "cell_type": "markdown",
   "metadata": {},
   "source": [
    "1.\tTPI link status down checked by external mini-processor module and writes VSPEC1_SGMII_CTRL.PD = 1"
   ]
  },
  {
   "cell_type": "code",
   "execution_count": 13,
   "metadata": {},
   "outputs": [
    {
     "name": "stdout",
     "output_type": "stream",
     "text": [
      "read value: 0x24c2\n"
     ]
    },
    {
     "data": {
      "text/plain": [
       "9410"
      ]
     },
     "execution_count": 13,
     "metadata": {},
     "output_type": "execute_result"
    }
   ],
   "source": [
    "g2.mmdr(30,8)"
   ]
  },
  {
   "cell_type": "code",
   "execution_count": 14,
   "metadata": {},
   "outputs": [
    {
     "name": "stdout",
     "output_type": "stream",
     "text": [
      "read value: 0x2cc2\n"
     ]
    },
    {
     "data": {
      "text/plain": [
       "11458"
      ]
     },
     "execution_count": 14,
     "metadata": {},
     "output_type": "execute_result"
    }
   ],
   "source": [
    "g2.mmdw(30,8,0x2cc2)\n",
    "g2.mmdr(30,8)"
   ]
  },
  {
   "cell_type": "markdown",
   "metadata": {},
   "source": [
    "Read SGMII reg 0xd005, it is 0x000f"
   ]
  },
  {
   "cell_type": "code",
   "execution_count": 15,
   "metadata": {},
   "outputs": [
    {
     "name": "stdout",
     "output_type": "stream",
     "text": [
      "read value: 0x000f\n"
     ]
    },
    {
     "data": {
      "text/plain": [
       "15"
      ]
     },
     "execution_count": 15,
     "metadata": {},
     "output_type": "execute_result"
    }
   ],
   "source": [
    "g2.r(0xd005)"
   ]
  },
  {
   "cell_type": "code",
   "execution_count": 16,
   "metadata": {},
   "outputs": [
    {
     "name": "stdout",
     "output_type": "stream",
     "text": [
      "read value: 0x000f\n"
     ]
    },
    {
     "data": {
      "text/plain": [
       "15"
      ]
     },
     "execution_count": 16,
     "metadata": {},
     "output_type": "execute_result"
    }
   ],
   "source": [
    "g2.mmdw(30, 6, 0x4014)\n",
    "g2.mmdw(30, 7, 0x00d3)\n",
    "g2.mmdr(30, 5)"
   ]
  },
  {
   "cell_type": "markdown",
   "metadata": {},
   "source": [
    "2.\tSGMII_PHY_TX0_CFG1.TX0_EN = 0. Write through mailbox (AHB Address: 0x00D34014; SGMII_PHY_TX0_CFG1[2])\n",
    "\n",
    "But could not reset bit 2."
   ]
  },
  {
   "cell_type": "code",
   "execution_count": 20,
   "metadata": {},
   "outputs": [
    {
     "name": "stdout",
     "output_type": "stream",
     "text": [
      "read value: 0x000f\n"
     ]
    },
    {
     "data": {
      "text/plain": [
       "15"
      ]
     },
     "execution_count": 20,
     "metadata": {},
     "output_type": "execute_result"
    }
   ],
   "source": [
    "g2.w(0xd005, 0x000b)\n",
    "g2.r(0xd005)"
   ]
  },
  {
   "cell_type": "code",
   "execution_count": 18,
   "metadata": {},
   "outputs": [
    {
     "name": "stdout",
     "output_type": "stream",
     "text": [
      "read value: 0x000f\n"
     ]
    },
    {
     "data": {
      "text/plain": [
       "15"
      ]
     },
     "execution_count": 18,
     "metadata": {},
     "output_type": "execute_result"
    }
   ],
   "source": [
    "g2.mmdw(30, 5, 0x000b)\n",
    "g2.mmdw(30, 6, 0x4014)\n",
    "g2.mmdw(30, 7, 0x01d3)\n",
    "g2.mmdw(30, 6, 0x4014)\n",
    "g2.mmdw(30, 7, 0x00d3)\n",
    "g2.mmdr(30, 5)"
   ]
  },
  {
   "cell_type": "code",
   "execution_count": 11,
   "metadata": {},
   "outputs": [],
   "source": [
    "g2.mmdw(30, 8, 0x24c2)"
   ]
  },
  {
   "cell_type": "markdown",
   "metadata": {},
   "source": [
    "### ?? test"
   ]
  },
  {
   "cell_type": "code",
   "execution_count": 15,
   "metadata": {},
   "outputs": [],
   "source": [
    "g2.mmdw(0,9,0x1800)\n",
    "g2.mmdw(0,0,0x2000)\n",
    "#mmdw(0,0x18,0x8400)"
   ]
  },
  {
   "cell_type": "code",
   "execution_count": 17,
   "metadata": {},
   "outputs": [],
   "source": [
    "g2.mmdw(0,9,0x1b00)\n",
    "g2.mmdw(0,0,0x0040)\n",
    "#mmdw(0,0x18,0x8400)"
   ]
  },
  {
   "cell_type": "code",
   "execution_count": 3,
   "metadata": {},
   "outputs": [],
   "source": [
    "g2.mmdw(30, 8, 0x24c2)"
   ]
  },
  {
   "cell_type": "code",
   "execution_count": 4,
   "metadata": {},
   "outputs": [
    {
     "name": "stdout",
     "output_type": "stream",
     "text": [
      "MDIO 25: 0x0000\n",
      "MDIO 26: 0x341b\n"
     ]
    },
    {
     "ename": "NameError",
     "evalue": "name 'stat' is not defined",
     "output_type": "error",
     "traceback": [
      "\u001b[1;31m---------------------------------------------------------------------------\u001b[0m",
      "\u001b[1;31mNameError\u001b[0m                                 Traceback (most recent call last)",
      "\u001b[1;32m<ipython-input-4-f50b63049a7e>\u001b[0m in \u001b[0;36m<module>\u001b[1;34m\u001b[0m\n\u001b[0;32m      1\u001b[0m \u001b[0mprint\u001b[0m\u001b[1;33m(\u001b[0m\u001b[1;34m\"MDIO 25: 0x%04x\"\u001b[0m\u001b[1;33m%\u001b[0m\u001b[0mg2\u001b[0m\u001b[1;33m.\u001b[0m\u001b[0mmdior\u001b[0m\u001b[1;33m(\u001b[0m\u001b[1;36m25\u001b[0m\u001b[1;33m,\u001b[0m \u001b[1;36m0\u001b[0m\u001b[1;33m)\u001b[0m\u001b[1;33m)\u001b[0m\u001b[1;33m\u001b[0m\u001b[1;33m\u001b[0m\u001b[0m\n\u001b[0;32m      2\u001b[0m \u001b[0mprint\u001b[0m\u001b[1;33m(\u001b[0m\u001b[1;34m\"MDIO 26: 0x%04x\"\u001b[0m\u001b[1;33m%\u001b[0m\u001b[0mg2\u001b[0m\u001b[1;33m.\u001b[0m\u001b[0mmdior\u001b[0m\u001b[1;33m(\u001b[0m\u001b[1;36m26\u001b[0m\u001b[1;33m,\u001b[0m \u001b[1;36m0\u001b[0m\u001b[1;33m)\u001b[0m\u001b[1;33m)\u001b[0m\u001b[1;33m\u001b[0m\u001b[1;33m\u001b[0m\u001b[0m\n\u001b[1;32m----> 3\u001b[1;33m \u001b[0mstat\u001b[0m\u001b[1;33m(\u001b[0m\u001b[1;33m)\u001b[0m\u001b[1;33m\u001b[0m\u001b[1;33m\u001b[0m\u001b[0m\n\u001b[0m",
      "\u001b[1;31mNameError\u001b[0m: name 'stat' is not defined"
     ]
    }
   ],
   "source": [
    "print(\"MDIO 25: 0x%04x\"%g2.mdior(25, 0))\n",
    "print(\"MDIO 26: 0x%04x\"%g2.mdior(26, 0))\n",
    "stat()"
   ]
  },
  {
   "cell_type": "code",
   "execution_count": 6,
   "metadata": {},
   "outputs": [
    {
     "name": "stdout",
     "output_type": "stream",
     "text": [
      "MDIO 25: 0x0000\n",
      "MDIO 26: 0x0008\n"
     ]
    },
    {
     "ename": "NameError",
     "evalue": "name 'stat' is not defined",
     "output_type": "error",
     "traceback": [
      "\u001b[1;31m---------------------------------------------------------------------------\u001b[0m",
      "\u001b[1;31mNameError\u001b[0m                                 Traceback (most recent call last)",
      "\u001b[1;32m<ipython-input-6-f50b63049a7e>\u001b[0m in \u001b[0;36m<module>\u001b[1;34m\u001b[0m\n\u001b[0;32m      1\u001b[0m \u001b[0mprint\u001b[0m\u001b[1;33m(\u001b[0m\u001b[1;34m\"MDIO 25: 0x%04x\"\u001b[0m\u001b[1;33m%\u001b[0m\u001b[0mg2\u001b[0m\u001b[1;33m.\u001b[0m\u001b[0mmdior\u001b[0m\u001b[1;33m(\u001b[0m\u001b[1;36m25\u001b[0m\u001b[1;33m,\u001b[0m \u001b[1;36m0\u001b[0m\u001b[1;33m)\u001b[0m\u001b[1;33m)\u001b[0m\u001b[1;33m\u001b[0m\u001b[1;33m\u001b[0m\u001b[0m\n\u001b[0;32m      2\u001b[0m \u001b[0mprint\u001b[0m\u001b[1;33m(\u001b[0m\u001b[1;34m\"MDIO 26: 0x%04x\"\u001b[0m\u001b[1;33m%\u001b[0m\u001b[0mg2\u001b[0m\u001b[1;33m.\u001b[0m\u001b[0mmdior\u001b[0m\u001b[1;33m(\u001b[0m\u001b[1;36m26\u001b[0m\u001b[1;33m,\u001b[0m \u001b[1;36m0\u001b[0m\u001b[1;33m)\u001b[0m\u001b[1;33m)\u001b[0m\u001b[1;33m\u001b[0m\u001b[1;33m\u001b[0m\u001b[0m\n\u001b[1;32m----> 3\u001b[1;33m \u001b[0mstat\u001b[0m\u001b[1;33m(\u001b[0m\u001b[1;33m)\u001b[0m\u001b[1;33m\u001b[0m\u001b[1;33m\u001b[0m\u001b[0m\n\u001b[0m",
      "\u001b[1;31mNameError\u001b[0m: name 'stat' is not defined"
     ]
    }
   ],
   "source": [
    "print(\"MDIO 25: 0x%04x\"%g2.mdior(25, 0))\n",
    "print(\"MDIO 26: 0x%04x\"%g2.mdior(26, 0))\n",
    "stat()"
   ]
  },
  {
   "cell_type": "code",
   "execution_count": 3,
   "metadata": {},
   "outputs": [],
   "source": [
    "g2.mdiow(19, 0x4001)"
   ]
  },
  {
   "cell_type": "code",
   "execution_count": 2,
   "metadata": {},
   "outputs": [
    {
     "name": "stdout",
     "output_type": "stream",
     "text": [
      "True\n"
     ]
    }
   ],
   "source": [
    "g2.ss()"
   ]
  },
  {
   "cell_type": "code",
   "execution_count": 3,
   "metadata": {},
   "outputs": [
    {
     "name": "stdout",
     "output_type": "stream",
     "text": [
      "Now close port at: com16\n",
      "Open serial port at: com16\n",
      "write 0xf480 = 0\n",
      "Read reg 0xf480\n",
      "read value: 0x0000\n"
     ]
    }
   ],
   "source": [
    "g2.rc()"
   ]
  },
  {
   "cell_type": "code",
   "execution_count": 5,
   "metadata": {},
   "outputs": [
    {
     "name": "stdout",
     "output_type": "stream",
     "text": [
      "read value: 0x0000\n",
      "read value: 0x0000\n"
     ]
    },
    {
     "data": {
      "text/plain": [
       "0"
      ]
     },
     "execution_count": 5,
     "metadata": {},
     "output_type": "execute_result"
    }
   ],
   "source": [
    "g2.w(0xf6d0, 0x0002)\n",
    "g2.w(0xf6d2, 0x00d3)\n",
    "g2.w(0xf6d1, 0xdffc) \n",
    "g2.w(0xf6d4, 0x0000)\n",
    "g2.w(0xf6d3, 0x1f00)\n",
    "\n",
    "g2.w(0xf6d2, 0x00d3)\n",
    "g2.w(0xf6d1, 0xdc04)\n",
    "g2.w(0xf6d0, 0x0001)\n",
    "\n",
    "g2.r(0xf6d4)\n",
    "g2.r(0xf6d3)"
   ]
  },
  {
   "cell_type": "code",
   "execution_count": 10,
   "metadata": {},
   "outputs": [],
   "source": [
    "g2.mmdw(3, 0, 0x605c)"
   ]
  },
  {
   "cell_type": "code",
   "execution_count": 11,
   "metadata": {},
   "outputs": [
    {
     "name": "stdout",
     "output_type": "stream",
     "text": [
      "read value: 0x605c\n"
     ]
    },
    {
     "data": {
      "text/plain": [
       "24668"
      ]
     },
     "execution_count": 11,
     "metadata": {},
     "output_type": "execute_result"
    }
   ],
   "source": [
    "g2.mmdr(3,0)\n"
   ]
  },
  {
   "cell_type": "code",
   "execution_count": null,
   "metadata": {},
   "outputs": [],
   "source": []
  }
 ],
 "metadata": {
  "kernelspec": {
   "name": "python3",
   "display_name": "Python 3.9.1 64-bit",
   "metadata": {
    "interpreter": {
     "hash": "7e0d7933ce1aeeffe543a4882cd1959816a0537ce59b0dd90853acb4497a0bf4"
    }
   }
  },
  "language_info": {
   "codemirror_mode": {
    "name": "ipython",
    "version": 3
   },
   "file_extension": ".py",
   "mimetype": "text/x-python",
   "name": "python",
   "nbconvert_exporter": "python",
   "pygments_lexer": "ipython3",
   "version": "3.9.1-final"
  }
 },
 "nbformat": 4,
 "nbformat_minor": 2
}